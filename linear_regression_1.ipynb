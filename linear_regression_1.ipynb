{
 "cells": [
  {
   "cell_type": "markdown",
   "metadata": {},
   "source": [
    "## Import packages"
   ]
  },
  {
   "cell_type": "code",
   "execution_count": 1,
   "metadata": {
    "collapsed": true
   },
   "outputs": [],
   "source": [
    "import pandas as pd\n",
    "import numpy as np\n",
    "import re\n",
    "import matplotlib.pyplot as plt"
   ]
  },
  {
   "cell_type": "markdown",
   "metadata": {},
   "source": [
    "## Import data\n",
    "Data source is from https://en.wikipedia.org/wiki/Transistor_count"
   ]
  },
  {
   "cell_type": "code",
   "execution_count": 2,
   "metadata": {},
   "outputs": [
    {
     "data": {
      "text/html": [
       "<div>\n",
       "<style>\n",
       "    .dataframe thead tr:only-child th {\n",
       "        text-align: right;\n",
       "    }\n",
       "\n",
       "    .dataframe thead th {\n",
       "        text-align: left;\n",
       "    }\n",
       "\n",
       "    .dataframe tbody tr th {\n",
       "        vertical-align: top;\n",
       "    }\n",
       "</style>\n",
       "<table border=\"1\" class=\"dataframe\">\n",
       "  <thead>\n",
       "    <tr style=\"text-align: right;\">\n",
       "      <th></th>\n",
       "      <th>0</th>\n",
       "      <th>1</th>\n",
       "      <th>2</th>\n",
       "      <th>3</th>\n",
       "      <th>4</th>\n",
       "      <th>5</th>\n",
       "    </tr>\n",
       "  </thead>\n",
       "  <tbody>\n",
       "    <tr>\n",
       "      <th>0</th>\n",
       "      <td>Intel 4004</td>\n",
       "      <td>2,300</td>\n",
       "      <td>1971</td>\n",
       "      <td>Intel</td>\n",
       "      <td>10,000 nm</td>\n",
       "      <td>12 mm²</td>\n",
       "    </tr>\n",
       "    <tr>\n",
       "      <th>1</th>\n",
       "      <td>Intel 8008</td>\n",
       "      <td>3,500</td>\n",
       "      <td>1972</td>\n",
       "      <td>Intel</td>\n",
       "      <td>10,000 nm</td>\n",
       "      <td>14 mm²</td>\n",
       "    </tr>\n",
       "    <tr>\n",
       "      <th>2</th>\n",
       "      <td>Intel 8080</td>\n",
       "      <td>4,500</td>\n",
       "      <td>1974</td>\n",
       "      <td>Intel</td>\n",
       "      <td>6,000 nm</td>\n",
       "      <td>20 mm²</td>\n",
       "    </tr>\n",
       "    <tr>\n",
       "      <th>3</th>\n",
       "      <td>Motorola 6800</td>\n",
       "      <td>4,100</td>\n",
       "      <td>1974</td>\n",
       "      <td>Motorola</td>\n",
       "      <td>6,000 nm</td>\n",
       "      <td>16 mm²</td>\n",
       "    </tr>\n",
       "    <tr>\n",
       "      <th>4</th>\n",
       "      <td>RCA 1802</td>\n",
       "      <td>5,000</td>\n",
       "      <td>1974</td>\n",
       "      <td>RCA</td>\n",
       "      <td>5,000 nm</td>\n",
       "      <td>27 mm²</td>\n",
       "    </tr>\n",
       "    <tr>\n",
       "      <th>5</th>\n",
       "      <td>TMS 1000</td>\n",
       "      <td>8,000</td>\n",
       "      <td>1974[7]</td>\n",
       "      <td>Texas Instruments</td>\n",
       "      <td>8,000 nm</td>\n",
       "      <td>NaN</td>\n",
       "    </tr>\n",
       "    <tr>\n",
       "      <th>6</th>\n",
       "      <td>MOS Technology 6502</td>\n",
       "      <td>3,510[8]</td>\n",
       "      <td>1975</td>\n",
       "      <td>MOS Technology</td>\n",
       "      <td>8,000 nm</td>\n",
       "      <td>21 mm²</td>\n",
       "    </tr>\n",
       "    <tr>\n",
       "      <th>7</th>\n",
       "      <td>Intel 8085</td>\n",
       "      <td>6,500</td>\n",
       "      <td>1976</td>\n",
       "      <td>Intel</td>\n",
       "      <td>3,000 nm</td>\n",
       "      <td>20 mm²</td>\n",
       "    </tr>\n",
       "    <tr>\n",
       "      <th>8</th>\n",
       "      <td>Zilog Z80</td>\n",
       "      <td>8,500</td>\n",
       "      <td>1976</td>\n",
       "      <td>Zilog</td>\n",
       "      <td>4,000 nm</td>\n",
       "      <td>18 mm²</td>\n",
       "    </tr>\n",
       "    <tr>\n",
       "      <th>9</th>\n",
       "      <td>Intel 8086</td>\n",
       "      <td>29,000</td>\n",
       "      <td>1978</td>\n",
       "      <td>Intel</td>\n",
       "      <td>3,000 nm</td>\n",
       "      <td>33 mm²</td>\n",
       "    </tr>\n",
       "  </tbody>\n",
       "</table>\n",
       "</div>"
      ],
      "text/plain": [
       "                     0         1        2                  3          4  \\\n",
       "0           Intel 4004     2,300     1971              Intel  10,000 nm   \n",
       "1           Intel 8008     3,500     1972              Intel  10,000 nm   \n",
       "2           Intel 8080     4,500     1974              Intel   6,000 nm   \n",
       "3        Motorola 6800     4,100     1974           Motorola   6,000 nm   \n",
       "4             RCA 1802     5,000     1974                RCA   5,000 nm   \n",
       "5             TMS 1000     8,000  1974[7]  Texas Instruments   8,000 nm   \n",
       "6  MOS Technology 6502  3,510[8]     1975     MOS Technology   8,000 nm   \n",
       "7           Intel 8085     6,500     1976              Intel   3,000 nm   \n",
       "8            Zilog Z80     8,500     1976              Zilog   4,000 nm   \n",
       "9           Intel 8086    29,000     1978              Intel   3,000 nm   \n",
       "\n",
       "        5  \n",
       "0  12 mm²  \n",
       "1  14 mm²  \n",
       "2  20 mm²  \n",
       "3  16 mm²  \n",
       "4  27 mm²  \n",
       "5     NaN  \n",
       "6  21 mm²  \n",
       "7  20 mm²  \n",
       "8  18 mm²  \n",
       "9  33 mm²  "
      ]
     },
     "execution_count": 2,
     "metadata": {},
     "output_type": "execute_result"
    }
   ],
   "source": [
    "df = pd.read_csv('data/moore.csv', delimiter='\\t', header=None)\n",
    "df.head(10)"
   ]
  },
  {
   "cell_type": "markdown",
   "metadata": {},
   "source": [
    "## Clean data\n",
    "Identify below patterns, remove them and convert to floats\n",
    "* Thousand separater like '2,300'\n",
    "* Prefix alphabets like 'cca 1,750,000,000'\n",
    "* Quotation bracket like '1985[13]'"
   ]
  },
  {
   "cell_type": "code",
   "execution_count": 3,
   "metadata": {},
   "outputs": [
    {
     "name": "stdout",
     "output_type": "stream",
     "text": [
      "counts:  [       2300        3500        4500        4100        5000        8000\n",
      "        3510        6500        8500       29000        9000       29000\n",
      "       68000       11500       55000      134000       22000      190000\n",
      "       25000      275000       16000       30000      553000      180000\n",
      "      250000      300000     1180235       35000     1350000     3100000\n",
      "      578977     5500000     2500000     4300000     8800000     7500000\n",
      "     7500000    21300000    22000000      111000    27400000     9500000\n",
      "    42000000    21000000    45000000   220000000    55000000   105900000\n",
      "    54300000   410000000   592000000   112000000   169000000   228000000\n",
      "   241000000   291000000  1700000000   184000000   362000000   463000000\n",
      "    26000000   169000000   411000000   789000000   758000000    47000000\n",
      "   230000000   731000000  1900000000   904000000  1000000000  1200000000\n",
      "  2300000000  2000000000  1400000000  1170000000  2600000000  1160000000\n",
      "  2270000000  5000000000  1200000000  3100000000  2100000000  1303000000\n",
      "  1400000000  2750000000  4200000000  1000000000  1860000000  5000000000\n",
      "  4310000000  5560000000  2600000000  2000000000  3000000000  1400000000\n",
      "  1900000000  3990000000  7100000000  1750000000 10000000000  7200000000]\n",
      "years:  [1971 1972 1974 1974 1974 1974 1975 1976 1976 1978 1978 1979 1979 1981 1982\n",
      " 1982 1983 1984 1985 1985 1985 1986 1987 1988 1988 1989 1989 1991 1991 1993\n",
      " 1994 1995 1995 1996 1997 1997 1998 1999 1999 1999 1999 1999 2000 2000 2001\n",
      " 2002 2002 2003 2003 2003 2004 2004 2005 2005 2006 2006 2006 2006 2006 2007\n",
      " 2007 2007 2007 2007 2008 2008 2008 2008 2008 2009 2010 2010 2010 2010 2010\n",
      " 2010 2011 2011 2011 2012 2012 2012 2012 2012 2012 2012 2013 2013 2013 2013\n",
      " 2014 2014 2014 2014 2014 2014 2015 2015 2015 2015 2015 2016]\n"
     ]
    }
   ],
   "source": [
    "regex = re.compile(r'[^\\d]+')\n",
    "\n",
    "def extract_number(text):\n",
    "    text = text.split('[')[0]\n",
    "    number = regex.sub('', text)\n",
    "    return int(number)\n",
    "\n",
    "counts = np.array(df[1].apply(extract_number))\n",
    "years = np.array(df[2].apply(extract_number))\n",
    "\n",
    "print('counts: ', counts)\n",
    "print('years: ', years)"
   ]
  },
  {
   "cell_type": "markdown",
   "metadata": {},
   "source": [
    "## Scatter plots"
   ]
  },
  {
   "cell_type": "code",
   "execution_count": 4,
   "metadata": {},
   "outputs": [
    {
     "data": {
      "image/png": "[encoded data removed]",
      "text/plain": [
       "<matplotlib.figure.Figure at 0x2a8bcb42780>"
      ]
     },
     "metadata": {},
     "output_type": "display_data"
    }
   ],
   "source": [
    "plt.scatter(years, counts)\n",
    "plt.show()"
   ]
  },
  {
   "cell_type": "code",
   "execution_count": 5,
   "metadata": {},
   "outputs": [
    {
     "data": {
      "image/png": "[encoded data removed]",
      "text/plain": [
       "<matplotlib.figure.Figure at 0x2a8bfc89240>"
      ]
     },
     "metadata": {},
     "output_type": "display_data"
    }
   ],
   "source": [
    "# It looks like exponential graph, try to apply log() function\n",
    "plt.scatter(years, np.log(counts))\n",
    "plt.show()"
   ]
  },
  {
   "cell_type": "markdown",
   "metadata": {},
   "source": [
    "## Linear regression"
   ]
  },
  {
   "cell_type": "code",
   "execution_count": 6,
   "metadata": {},
   "outputs": [
    {
     "data": {
      "image/png": "[encoded data removed]",
      "text/plain": [
       "<matplotlib.figure.Figure at 0x2a8bfce0da0>"
      ]
     },
     "metadata": {},
     "output_type": "display_data"
    }
   ],
   "source": [
    "# Use X, Y for better representation\n",
    "X = years\n",
    "Y = np.log(counts)\n",
    "\n",
    "# Compute a, b for Y = aX + b\n",
    "denominator = X.dot(X) - X.mean() * X.sum()\n",
    "a = ( X.dot(Y) - Y.mean()*X.sum() ) / denominator\n",
    "b = ( Y.mean() * X.dot(X) - X.mean() * X.dot(Y) ) / denominator\n",
    "lm = a * X + b\n",
    "\n",
    "# Plot linear model and original scatter plot together\n",
    "plt.scatter(X, Y)\n",
    "plt.plot(X, lm, 'r')\n",
    "plt.show()"
   ]
  },
  {
   "cell_type": "markdown",
   "metadata": {},
   "source": [
    "## Verify Moore's Law\n",
    "Moore's law is the observation that the number of transistors in a dense integrated circuit doubles approximately every two years."
   ]
  },
  {
   "cell_type": "code",
   "execution_count": 7,
   "metadata": {},
   "outputs": [
    {
     "name": "stdout",
     "output_type": "stream",
     "text": [
      "Estimated time to increase 2 times of transistor: 1.97453317238 years\n"
     ]
    }
   ],
   "source": [
    "# Simple mathematics calculation:\n",
    "# log(Y) = aX1 + b --------- (1)\n",
    "# log(2Y) = aX2 + b -------- (2)\n",
    "# Here Y is the count of transistors, X1 & X2 are time\n",
    "# (2) - (1) => X2 - X1 = log(2)/a\n",
    "\n",
    "print('Estimated time to increase 2 times of transistor:', np.log(2)/a, 'years')"
   ]
  }
 ],
 "metadata": {
  "kernelspec": {
   "display_name": "Python 3",
   "language": "python",
   "name": "python3"
  },
  "language_info": {
   "codemirror_mode": {
    "name": "ipython",
    "version": 3
   },
   "file_extension": ".py",
   "mimetype": "text/x-python",
   "name": "python",
   "nbconvert_exporter": "python",
   "pygments_lexer": "ipython3",
   "version": "3.6.1"
  }
 },
 "nbformat": 4,
 "nbformat_minor": 2
}
